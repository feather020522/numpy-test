{
  "nbformat": 4,
  "nbformat_minor": 0,
  "metadata": {
    "colab": {
      "name": "Untitled6.ipynb",
      "provenance": []
    },
    "kernelspec": {
      "name": "python3",
      "display_name": "Python 3"
    }
  },
  "cells": [
    {
      "cell_type": "markdown",
      "metadata": {
        "id": "U5N9t2IJB3n2",
        "colab_type": "text"
      },
      "source": [
        "**Import** **Data**"
      ]
    },
    {
      "cell_type": "code",
      "metadata": {
        "id": "PVz09Ecr98_8",
        "colab_type": "code",
        "outputId": "1920375f-ee89-4f24-f360-e6b5d091d1ff",
        "colab": {
          "base_uri": "https://localhost:8080/",
          "height": 411
        }
      },
      "source": [
        "!wget https://raw.githubusercontent.com/PacktPublishing/Learning-Pandas-Second-Edition/master/data/sp500.csv\n",
        "!wget https://raw.githubusercontent.com/PacktPublishing/Learning-Pandas-Second-Edition/master/data/omh.csv"
      ],
      "execution_count": 14,
      "outputs": [
        {
          "output_type": "stream",
          "text": [
            "--2019-12-10 04:19:14--  https://raw.githubusercontent.com/PacktPublishing/Learning-Pandas-Second-Edition/master/data/sp500.csv\n",
            "Resolving raw.githubusercontent.com (raw.githubusercontent.com)... 151.101.0.133, 151.101.64.133, 151.101.128.133, ...\n",
            "Connecting to raw.githubusercontent.com (raw.githubusercontent.com)|151.101.0.133|:443... connected.\n",
            "HTTP request sent, awaiting response... 200 OK\n",
            "Length: 83629 (82K) [text/plain]\n",
            "Saving to: ‘sp500.csv.1’\n",
            "\n",
            "\rsp500.csv.1           0%[                    ]       0  --.-KB/s               \rsp500.csv.1         100%[===================>]  81.67K  --.-KB/s    in 0.02s   \n",
            "\n",
            "2019-12-10 04:19:15 (3.23 MB/s) - ‘sp500.csv.1’ saved [83629/83629]\n",
            "\n",
            "--2019-12-10 04:19:19--  https://raw.githubusercontent.com/PacktPublishing/Learning-Pandas-Second-Edition/master/data/omh.csv\n",
            "Resolving raw.githubusercontent.com (raw.githubusercontent.com)... 151.101.0.133, 151.101.64.133, 151.101.128.133, ...\n",
            "Connecting to raw.githubusercontent.com (raw.githubusercontent.com)|151.101.0.133|:443... connected.\n",
            "HTTP request sent, awaiting response... 200 OK\n",
            "Length: 539 [text/plain]\n",
            "Saving to: ‘omh.csv.1’\n",
            "\n",
            "omh.csv.1           100%[===================>]     539  --.-KB/s    in 0s      \n",
            "\n",
            "2019-12-10 04:19:20 (107 MB/s) - ‘omh.csv.1’ saved [539/539]\n",
            "\n"
          ],
          "name": "stdout"
        }
      ]
    },
    {
      "cell_type": "code",
      "metadata": {
        "id": "EhcTbRq9CCcD",
        "colab_type": "code",
        "colab": {}
      },
      "source": [
        "# -*- coding: utf-8 -*-\n",
        "import numpy as np\n",
        "import pandas as pd\n",
        "\n",
        "# used for dates\n",
        "import datetime\n",
        "from datetime import datetime, date\n",
        "\n",
        "# Set formattign options\n",
        "pd.set_option('display.notebook_repr_html', False)\n",
        "pd.set_option('display.max_columns', 7)\n",
        "pd.set_option('display.max_rows', 10)\n",
        "pd.set_option('display.width', 60)\n",
        "\n",
        "# bring in matplotlib for graphics\n",
        "import matplotlib.pyplot as plt\n",
        "# %matplotlib inline\n",
        "\n",
        "# read in the data and print the first five rows\n",
        "# use the Symbol column as the index, and \n",
        "# only read in columns in positions 0, 2, 3, 7\n",
        "sp500 = pd.read_csv(\"sp500.csv\", \n",
        "                    index_col='Symbol', \n",
        "                    usecols=[0, 2, 3, 7])\n",
        "\n",
        "# one month of stock history data\n",
        "omh = pd.read_csv(\"omh.csv\")"
      ],
      "execution_count": 0,
      "outputs": []
    },
    {
      "cell_type": "markdown",
      "metadata": {
        "id": "iIykKC4gCl_L",
        "colab_type": "text"
      },
      "source": [
        "**DataFrame** **or** **Series的簡單運算**"
      ]
    },
    {
      "cell_type": "code",
      "metadata": {
        "id": "ZGKN3w8zCoFZ",
        "colab_type": "code",
        "colab": {
          "base_uri": "https://localhost:8080/",
          "height": 85
        },
        "outputId": "1722f88e-38f0-4175-886d-917f5d538a5b"
      },
      "source": [
        "# set the seed to allow replicatable results\n",
        "np.random.seed(123456)\n",
        "# create the DataFrame\n",
        "df = pd.DataFrame(np.random.randn(5, 4), \n",
        "                  columns=['A', 'B', 'C', 'D'])\n",
        "df\n",
        "\n",
        "# multiply everything by 2\n",
        "df * 2\n",
        "\n",
        "# get first row 第一行\n",
        "s = df.iloc[0] \n",
        "\n",
        "\n",
        "# subtract first row from every row of the DataFrame\n",
        "diff = df - s \n",
        "diff\n",
        "\n",
        "# subtract DataFrame from Series\n",
        "diff2 = s - df\n",
        "diff2\n",
        "\n",
        "# B, C\n",
        "s2 = s[1:3]\n",
        "# add E\n",
        "s2['E'] = 0\n",
        "# see how alignment is applied in math\n",
        "df + s2\n",
        "\n",
        "# get rows 1 through three, and only B, C columns (B,C行的1~3)\n",
        "subframe = df[1:4][['B', 'C']]\n",
        "# we have extracted a little square in the middle of df\n",
        "subframe\n",
        "\n",
        "# demonstrate the alignment of the subtraction\n",
        "df - subframe\n",
        "\n",
        "# get the A column\n",
        "a_col = df['A']\n",
        "df.sub(a_col, axis=0)\n",
        "\n"
      ],
      "execution_count": 33,
      "outputs": [
        {
          "output_type": "execute_result",
          "data": {
            "text/plain": [
              "          B         C\n",
              "1 -0.173215  0.119209\n",
              "2 -2.104569 -0.494929\n",
              "3 -0.706771 -1.039575"
            ]
          },
          "metadata": {
            "tags": []
          },
          "execution_count": 33
        }
      ]
    },
    {
      "cell_type": "markdown",
      "metadata": {
        "id": "Y43zhXq6DtAs",
        "colab_type": "text"
      },
      "source": [
        "Counts of values"
      ]
    },
    {
      "cell_type": "code",
      "metadata": {
        "id": "_lmsmOl6Dq18",
        "colab_type": "code",
        "colab": {
          "base_uri": "https://localhost:8080/",
          "height": 34
        },
        "outputId": "432bcf61-141c-4759-8e1c-18be8df30488"
      },
      "source": [
        "s = pd.Series(['a', 'a', 'b', 'c', np.NaN])\n",
        "# number of occurrences of each unique value\n",
        "s.count()"
      ],
      "execution_count": 34,
      "outputs": [
        {
          "output_type": "execute_result",
          "data": {
            "text/plain": [
              "4"
            ]
          },
          "metadata": {
            "tags": []
          },
          "execution_count": 34
        }
      ]
    },
    {
      "cell_type": "markdown",
      "metadata": {
        "id": "_o7ER0-MD1Ed",
        "colab_type": "text"
      },
      "source": [
        "Unique and number of unique values"
      ]
    },
    {
      "cell_type": "code",
      "metadata": {
        "id": "HWXMCmvcD3C5",
        "colab_type": "code",
        "colab": {
          "base_uri": "https://localhost:8080/",
          "height": 34
        },
        "outputId": "6a81a6c4-e10c-4e74-9f75-2f1e1da09bd8"
      },
      "source": [
        "# return a list of unique items\n",
        "s.unique()\n",
        "\n",
        "s.nunique()\n",
        "\n",
        "s.nunique(dropna=False)"
      ],
      "execution_count": 35,
      "outputs": [
        {
          "output_type": "execute_result",
          "data": {
            "text/plain": [
              "4"
            ]
          },
          "metadata": {
            "tags": []
          },
          "execution_count": 35
        }
      ]
    },
    {
      "cell_type": "markdown",
      "metadata": {
        "id": "DGTlAf-ZD8Cz",
        "colab_type": "text"
      },
      "source": [
        "Minimum and maximums"
      ]
    },
    {
      "cell_type": "code",
      "metadata": {
        "id": "IStlRGiUD8ZW",
        "colab_type": "code",
        "colab": {
          "base_uri": "https://localhost:8080/",
          "height": 68
        },
        "outputId": "5b0730be-fd25-4a58-b5c3-f4986eef4491"
      },
      "source": [
        "# location of min price for both stocks\n",
        "omh[['MSFT', 'AAPL']].min()\n",
        "\n",
        "# and location of the max\n",
        "omh[['MSFT', 'AAPL']].max()\n",
        "\n",
        "# location of min price for both stocks\n",
        "omh[['MSFT', 'AAPL']].idxmin()\n",
        "\n",
        "# and location of the max\n",
        "omh[['MSFT', 'AAPL']].idxmax()"
      ],
      "execution_count": 41,
      "outputs": [
        {
          "output_type": "execute_result",
          "data": {
            "text/plain": [
              "MSFT    3\n",
              "AAPL    2\n",
              "dtype: int64"
            ]
          },
          "metadata": {
            "tags": []
          },
          "execution_count": 41
        }
      ]
    },
    {
      "cell_type": "markdown",
      "metadata": {
        "id": "sE9Ca8hpED5s",
        "colab_type": "text"
      },
      "source": [
        "Smallest and Largest Values"
      ]
    },
    {
      "cell_type": "code",
      "metadata": {
        "id": "qfrSsXhBEDbs",
        "colab_type": "code",
        "colab": {
          "base_uri": "https://localhost:8080/",
          "height": 102
        },
        "outputId": "d1ae4760-d59d-47a7-b974-40a592b8e3d6"
      },
      "source": [
        "# get the 4 smallest values\n",
        "omh.nsmallest(4, ['MSFT'])['MSFT']\n",
        "\n",
        "# get the 4 largest values\n",
        "omh.nlargest(4, ['MSFT'])['MSFT']\n",
        "\n",
        "# nsmallest on a Series\n",
        "omh.MSFT.nsmallest(4)"
      ],
      "execution_count": 20,
      "outputs": [
        {
          "output_type": "execute_result",
          "data": {
            "text/plain": [
              "11    45.16\n",
              "12    45.74\n",
              "21    46.45\n",
              "10    46.67\n",
              "Name: MSFT, dtype: float64"
            ]
          },
          "metadata": {
            "tags": []
          },
          "execution_count": 20
        }
      ]
    },
    {
      "cell_type": "markdown",
      "metadata": {
        "id": "3j_6jua1F0VS",
        "colab_type": "text"
      },
      "source": [
        "Accumulations"
      ]
    },
    {
      "cell_type": "code",
      "metadata": {
        "id": "iPnAiXwvF1ii",
        "colab_type": "code",
        "colab": {
          "base_uri": "https://localhost:8080/",
          "height": 102
        },
        "outputId": "c169cd17-2edc-490f-ead0-fc3d2e276bea"
      },
      "source": [
        "# calculate a cumulative product\n",
        "pd.Series([1, 2, 3, 4]).cumprod()\n",
        "\n",
        "# calculate a cumulative sum\n",
        "pd.Series([1, 2, 3, 4]).cumsum()"
      ],
      "execution_count": 37,
      "outputs": [
        {
          "output_type": "execute_result",
          "data": {
            "text/plain": [
              "0     1\n",
              "1     3\n",
              "2     6\n",
              "3    10\n",
              "dtype: int64"
            ]
          },
          "metadata": {
            "tags": []
          },
          "execution_count": 37
        }
      ]
    },
    {
      "cell_type": "markdown",
      "metadata": {
        "id": "oJpaICDmGl12",
        "colab_type": "text"
      },
      "source": [
        "**描述統計學**"
      ]
    },
    {
      "cell_type": "code",
      "metadata": {
        "id": "JYMP9YypF9a-",
        "colab_type": "code",
        "colab": {
          "base_uri": "https://localhost:8080/",
          "height": 170
        },
        "outputId": "3e4f0ee2-ed40-4407-8238-0620d9f6e9cb"
      },
      "source": [
        "omh.describe()"
      ],
      "execution_count": 38,
      "outputs": [
        {
          "output_type": "execute_result",
          "data": {
            "text/plain": [
              "            MSFT        AAPL\n",
              "count  22.000000   22.000000\n",
              "mean   47.493182  112.411364\n",
              "std     0.933077    2.388772\n",
              "min    45.160000  106.750000\n",
              "25%    46.967500  111.660000\n",
              "50%    47.625000  112.530000\n",
              "75%    48.125000  114.087500\n",
              "max    48.840000  115.930000"
            ]
          },
          "metadata": {
            "tags": []
          },
          "execution_count": 38
        }
      ]
    },
    {
      "cell_type": "markdown",
      "metadata": {
        "id": "Q_gcniRaGjwr",
        "colab_type": "text"
      },
      "source": [
        "Mean平均值"
      ]
    },
    {
      "cell_type": "code",
      "metadata": {
        "id": "tRd64bJXGtwu",
        "colab_type": "code",
        "colab": {
          "base_uri": "https://localhost:8080/",
          "height": 119
        },
        "outputId": "e952b35b-181d-4c66-c78d-f5c099fe0809"
      },
      "source": [
        "# the mean of all the columns in omh\n",
        "omh.mean()\n",
        "\n",
        "# calc the mean of the values in each row\n",
        "omh.mean(axis=1)[:5]"
      ],
      "execution_count": 42,
      "outputs": [
        {
          "output_type": "execute_result",
          "data": {
            "text/plain": [
              "0    81.845\n",
              "1    81.545\n",
              "2    82.005\n",
              "3    82.165\n",
              "4    81.710\n",
              "dtype: float64"
            ]
          },
          "metadata": {
            "tags": []
          },
          "execution_count": 42
        }
      ]
    },
    {
      "cell_type": "markdown",
      "metadata": {
        "id": "WXMrlvfiG2is",
        "colab_type": "text"
      },
      "source": [
        "Median中位數"
      ]
    },
    {
      "cell_type": "code",
      "metadata": {
        "id": "f-_YkSPZG3j-",
        "colab_type": "code",
        "colab": {
          "base_uri": "https://localhost:8080/",
          "height": 68
        },
        "outputId": "c3db1ed5-d2d3-4655-d21d-2389fc26b629"
      },
      "source": [
        "# calc the median of the values in each column\n",
        "omh.median()"
      ],
      "execution_count": 43,
      "outputs": [
        {
          "output_type": "execute_result",
          "data": {
            "text/plain": [
              "MSFT     47.625\n",
              "AAPL    112.530\n",
              "dtype: float64"
            ]
          },
          "metadata": {
            "tags": []
          },
          "execution_count": 43
        }
      ]
    },
    {
      "cell_type": "markdown",
      "metadata": {
        "id": "vFheF7vEG5hZ",
        "colab_type": "text"
      },
      "source": [
        "Mode眾數"
      ]
    },
    {
      "cell_type": "code",
      "metadata": {
        "id": "2zBvJ8t2G681",
        "colab_type": "code",
        "colab": {
          "base_uri": "https://localhost:8080/",
          "height": 68
        },
        "outputId": "1d08ea7a-9df8-4994-ba19-40b5115aa589"
      },
      "source": [
        "# find the mode of this Series\n",
        "s = pd.Series([1, 2, 3, 3, 5])\n",
        "s.mode()\n",
        "\n",
        "# there can be more than one mode\n",
        "s = pd.Series([1, 2, 3, 3, 5, 1])\n",
        "s.mode()"
      ],
      "execution_count": 46,
      "outputs": [
        {
          "output_type": "execute_result",
          "data": {
            "text/plain": [
              "0    1\n",
              "1    3\n",
              "dtype: int64"
            ]
          },
          "metadata": {
            "tags": []
          },
          "execution_count": 46
        }
      ]
    },
    {
      "cell_type": "markdown",
      "metadata": {
        "id": "b3yNATtwHMQV",
        "colab_type": "text"
      },
      "source": [
        "Variance變異數"
      ]
    },
    {
      "cell_type": "code",
      "metadata": {
        "id": "HXUgLhWrHLgf",
        "colab_type": "code",
        "colab": {
          "base_uri": "https://localhost:8080/",
          "height": 68
        },
        "outputId": "a2a10a9f-915e-41a4-b460-10e6d970f3d3"
      },
      "source": [
        "# calc the variance of the values in each column\n",
        "omh.var()\n",
        "\n",
        "# Standard Deviation標準差\n",
        "\n",
        "# standard deviation\n",
        "omh.std()"
      ],
      "execution_count": 47,
      "outputs": [
        {
          "output_type": "execute_result",
          "data": {
            "text/plain": [
              "MSFT    0.933077\n",
              "AAPL    2.388772\n",
              "dtype: float64"
            ]
          },
          "metadata": {
            "tags": []
          },
          "execution_count": 47
        }
      ]
    },
    {
      "cell_type": "markdown",
      "metadata": {
        "id": "H9PwRIeZHOgN",
        "colab_type": "text"
      },
      "source": [
        "Covarianc共變數(相關係數"
      ]
    },
    {
      "cell_type": "code",
      "metadata": {
        "id": "ns5ryNpbHRiH",
        "colab_type": "code",
        "colab": {
          "base_uri": "https://localhost:8080/",
          "height": 34
        },
        "outputId": "f180b7cf-7e84-43dc-856b-78a4c91e83e3"
      },
      "source": [
        "# covariance of MSFT vs AAPL\n",
        "omh.MSFT.cov(omh.AAPL)"
      ],
      "execution_count": 48,
      "outputs": [
        {
          "output_type": "execute_result",
          "data": {
            "text/plain": [
              "1.9261240259740264"
            ]
          },
          "metadata": {
            "tags": []
          },
          "execution_count": 48
        }
      ]
    },
    {
      "cell_type": "markdown",
      "metadata": {
        "id": "AiECysGTHUL6",
        "colab_type": "text"
      },
      "source": [
        "作業"
      ]
    },
    {
      "cell_type": "code",
      "metadata": {
        "id": "6z13vXJcHVz7",
        "colab_type": "code",
        "colab": {
          "base_uri": "https://localhost:8080/",
          "height": 170
        },
        "outputId": "21257e11-2eda-45c0-fb2f-701972706174"
      },
      "source": [
        "df1 = pd.DataFrame(np.matrix([[60,60],[59,54],[61,66],[62,71],[58,49],[60,60]]),columns=['A', 'B'])\n",
        "#import陣列\n",
        "df1.describe()"
      ],
      "execution_count": 51,
      "outputs": [
        {
          "output_type": "execute_result",
          "data": {
            "text/plain": [
              "               A          B\n",
              "count   6.000000   6.000000\n",
              "mean   60.000000  60.000000\n",
              "std     1.414214   7.924645\n",
              "min    58.000000  49.000000\n",
              "25%    59.250000  55.500000\n",
              "50%    60.000000  60.000000\n",
              "75%    60.750000  64.500000\n",
              "max    62.000000  71.000000"
            ]
          },
          "metadata": {
            "tags": []
          },
          "execution_count": 51
        }
      ]
    }
  ]
}
