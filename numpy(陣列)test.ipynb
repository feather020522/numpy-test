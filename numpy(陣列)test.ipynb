{
  "nbformat": 4,
  "nbformat_minor": 0,
  "metadata": {
    "colab": {
      "name": "Untitled5.ipynb",
      "provenance": []
    },
    "kernelspec": {
      "name": "python3",
      "display_name": "Python 3"
    }
  },
  "cells": [
    {
      "cell_type": "code",
      "metadata": {
        "id": "Ab-y3ivlw6zH",
        "colab_type": "code",
        "colab": {}
      },
      "source": [
        "import numpy as np"
      ],
      "execution_count": 0,
      "outputs": []
    },
    {
      "cell_type": "code",
      "metadata": {
        "id": "dN725_K3w_Ni",
        "colab_type": "code",
        "colab": {}
      },
      "source": [
        "A = np.matrix([[1,2,3,4],\n",
        "               [4,3,2,1],\n",
        "               [3,4,1,2],\n",
        "               [2,1,4,3]])"
      ],
      "execution_count": 0,
      "outputs": []
    },
    {
      "cell_type": "code",
      "metadata": {
        "id": "mbIV3u78xXbC",
        "colab_type": "code",
        "outputId": "6892ff61-fad7-4d75-f4ec-1613ed765d63",
        "colab": {
          "base_uri": "https://localhost:8080/",
          "height": 85
        }
      },
      "source": [
        "A ** 2 - 24\n"
      ],
      "execution_count": 0,
      "outputs": [
        {
          "output_type": "execute_result",
          "data": {
            "text/plain": [
              "matrix([[2, 0, 2, 0],\n",
              "        [0, 2, 0, 2],\n",
              "        [2, 0, 2, 0],\n",
              "        [0, 2, 0, 2]])"
            ]
          },
          "metadata": {
            "tags": []
          },
          "execution_count": 5
        }
      ]
    },
    {
      "cell_type": "code",
      "metadata": {
        "id": "4r76mI6AxySF",
        "colab_type": "code",
        "colab": {}
      },
      "source": [
        "B = np.matrix([[2,4,1,3],\n",
        "               [4,2,3,1],\n",
        "               [1,3,2,4],\n",
        "               [3,1,4,2]])"
      ],
      "execution_count": 0,
      "outputs": []
    },
    {
      "cell_type": "code",
      "metadata": {
        "id": "GsZXrPxEyJru",
        "colab_type": "code",
        "outputId": "32f4bf46-09c4-4643-9470-cee5445b4621",
        "colab": {
          "base_uri": "https://localhost:8080/",
          "height": 85
        }
      },
      "source": [
        "A * B"
      ],
      "execution_count": 0,
      "outputs": [
        {
          "output_type": "execute_result",
          "data": {
            "text/plain": [
              "matrix([[25, 21, 29, 25],\n",
              "        [25, 29, 21, 25],\n",
              "        [29, 25, 25, 21],\n",
              "        [21, 25, 25, 29]])"
            ]
          },
          "metadata": {
            "tags": []
          },
          "execution_count": 10
        }
      ]
    },
    {
      "cell_type": "code",
      "metadata": {
        "id": "FaLfxpgUyQpm",
        "colab_type": "code",
        "outputId": "12f3ea26-c620-46f2-da22-45f3b812ebc7",
        "colab": {
          "base_uri": "https://localhost:8080/",
          "height": 85
        }
      },
      "source": [
        "B * A"
      ],
      "execution_count": 0,
      "outputs": [
        {
          "output_type": "execute_result",
          "data": {
            "text/plain": [
              "matrix([[27, 23, 27, 23],\n",
              "        [23, 27, 23, 27],\n",
              "        [27, 23, 27, 23],\n",
              "        [23, 27, 23, 27]])"
            ]
          },
          "metadata": {
            "tags": []
          },
          "execution_count": 11
        }
      ]
    },
    {
      "cell_type": "code",
      "metadata": {
        "id": "ZmMcMBkByeFZ",
        "colab_type": "code",
        "colab": {}
      },
      "source": [
        "A2 = np.matrix([[1,-1],\n",
        "               [2,1]])"
      ],
      "execution_count": 0,
      "outputs": []
    },
    {
      "cell_type": "code",
      "metadata": {
        "id": "nR93zfTh35xU",
        "colab_type": "code",
        "outputId": "274772c0-cf0c-47c1-b81a-11ddca0a9969",
        "colab": {
          "base_uri": "https://localhost:8080/",
          "height": 51
        }
      },
      "source": [
        "A2 ** 2 - 2 * A2 + 3"
      ],
      "execution_count": 0,
      "outputs": [
        {
          "output_type": "execute_result",
          "data": {
            "text/plain": [
              "matrix([[0, 3],\n",
              "        [3, 0]])"
            ]
          },
          "metadata": {
            "tags": []
          },
          "execution_count": 23
        }
      ]
    },
    {
      "cell_type": "code",
      "metadata": {
        "id": "GbhGdjP435q0",
        "colab_type": "code",
        "outputId": "dfcc6c1b-e71a-41c0-b2da-bbb6baccf89a",
        "colab": {
          "base_uri": "https://localhost:8080/",
          "height": 51
        }
      },
      "source": [
        "B2 = np.matrix([[1,0],\n",
        "                [0,1]])\n",
        "x = np.linalg.solve(A2,B2)\n",
        "x"
      ],
      "execution_count": 0,
      "outputs": [
        {
          "output_type": "execute_result",
          "data": {
            "text/plain": [
              "matrix([[ 0.33333333,  0.33333333],\n",
              "        [-0.66666667,  0.33333333]])"
            ]
          },
          "metadata": {
            "tags": []
          },
          "execution_count": 26
        }
      ]
    }
  ]
}
